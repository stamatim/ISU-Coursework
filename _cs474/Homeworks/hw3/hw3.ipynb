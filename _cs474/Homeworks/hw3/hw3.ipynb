{
 "metadata": {
  "language_info": {
   "codemirror_mode": {
    "name": "ipython",
    "version": 3
   },
   "file_extension": ".py",
   "mimetype": "text/x-python",
   "name": "python",
   "nbconvert_exporter": "python",
   "pygments_lexer": "ipython3",
   "version": "3.8.3-final"
  },
  "orig_nbformat": 2,
  "kernelspec": {
   "name": "Python 3.8.3 64-bit ('base': conda)",
   "display_name": "Python 3.8.3 64-bit ('base': conda)",
   "metadata": {
    "interpreter": {
     "hash": "b3ba2566441a7c06988d0923437866b63cedc61552a5af99d1f4fb67d367b25f"
    }
   }
  }
 },
 "nbformat": 4,
 "nbformat_minor": 2,
 "cells": [
  {
   "cell_type": "code",
   "execution_count": 1,
   "metadata": {},
   "outputs": [],
   "source": [
    "import operator as op\n",
    "import numpy as np \n",
    "import sklearn as skl \n",
    "import sklearn.tree as tree "
   ]
  },
  {
   "cell_type": "code",
   "execution_count": 2,
   "metadata": {},
   "outputs": [],
   "source": [
    "def estimate_gini_impurity(feature_values, threshold, labels, polarity):\n",
    "\n",
    "    # TODO start\n",
    "    filtered_features = polarity(feature_values, threshold)\n",
    "    f = feature_values[filtered_features] # features\n",
    "\n",
    "    if len(f) == 0: \n",
    "        gini_impurity = 1\n",
    "        return gini_impurity\n",
    "\n",
    "    l = labels[filtered_features] \n",
    "\n",
    "    class1_members = np.logical_and(f, l == +1)\n",
    "    class2_members = np.logical_and(f, l == -1)\n",
    "\n",
    "    class1_length = sum(class1_members) # length of c1 members\n",
    "    class2_length = sum(class2_members) # length of c2 members\n",
    "\n",
    "    class_length = class1_length + class2_length  # total length of both classes\n",
    "\n",
    "    pr1 = class1_length / class_length # probability of class 1\n",
    "    pr2 = class2_length / class_length # probability of class 2\n",
    "\n",
    "    gini_impurity = (pr1 * (1 - pr1)) + (pr2 * (1 - pr2)) # calculate gini impurity\n",
    "    # TODO end\n",
    "\n",
    "    return gini_impurity"
   ]
  },
  {
   "cell_type": "code",
   "execution_count": 3,
   "metadata": {},
   "outputs": [],
   "source": [
    "def estimate_gini_impurity_expectation(feature_values, threshold, labels):\n",
    "\n",
    "    # TODO start\n",
    "    left_gini  = estimate_gini_impurity(feature_values, threshold, labels, op.le)\n",
    "    right_gini = estimate_gini_impurity(feature_values, threshold, labels, op.gt)\n",
    "\n",
    "    filtered_features = op.le(feature_values, threshold)\n",
    "\n",
    "    number = len(feature_values[filtered_features])\n",
    "    length = len(feature_values)\n",
    "    pr1 = number/length\n",
    "    \n",
    "    expectation = left_gini * pr1 + right_gini * (1 - pr1)\n",
    "    # TODO end\n",
    "\n",
    "    return expectation"
   ]
  },
  {
   "cell_type": "code",
   "execution_count": 4,
   "metadata": {},
   "outputs": [],
   "source": [
    "def midpoint(x):\n",
    "\n",
    "    result = (x[1:] + x[:-1]) / 2\n",
    "    \n",
    "    return result"
   ]
  },
  {
   "cell_type": "code",
   "execution_count": 5,
   "metadata": {},
   "outputs": [],
   "source": [
    "def grid_search_split_midpoint(X, y): \n",
    "\n",
    "    X_sorted = np.sort(X, axis=0)\n",
    "    thresholds = np.apply_along_axis(midpoint, 0, X_sorted)\n",
    "\n",
    "    # TODO start\n",
    "    columns = X.shape[1]\n",
    "    rows    = X.shape[0]-1\n",
    "    grid    = [[0 for i in range(columns)] for j in range(rows)]\n",
    "    \n",
    "    for col in range(columns):\n",
    "        for row in range(rows):\n",
    "            grid[row][col] = estimate_gini_impurity_expectation(X[:,col], thresholds[row][col], y)\n",
    "            \n",
    "    arr = np.asarray(grid)\n",
    "    ind = np.unravel_index(np.argmin(arr, axis=None), arr.shape)\n",
    "    best_threshold = arr[ind]\n",
    "    best_feature = ind[1]\n",
    "    # TODO end\n",
    "    \n",
    "\n",
    "    return grid, best_feature, best_threshold "
   ]
  },
  {
   "cell_type": "code",
   "execution_count": null,
   "metadata": {},
   "outputs": [],
   "source": [
    "def test_egi():\n",
    "    "
   ]
  }
 ]
}
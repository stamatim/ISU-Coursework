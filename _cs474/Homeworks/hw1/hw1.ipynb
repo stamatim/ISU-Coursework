{
 "metadata": {
  "language_info": {
   "codemirror_mode": {
    "name": "ipython",
    "version": 3
   },
   "file_extension": ".py",
   "mimetype": "text/x-python",
   "name": "python",
   "nbconvert_exporter": "python",
   "pygments_lexer": "ipython3",
   "version": "3.6.9-final"
  },
  "orig_nbformat": 2,
  "kernelspec": {
   "name": "python_defaultSpec_1599162974424",
   "display_name": "Python 3.6.9 64-bit"
  }
 },
 "nbformat": 4,
 "nbformat_minor": 2,
 "cells": [
  {
   "cell_type": "code",
   "execution_count": 1,
   "metadata": {},
   "outputs": [],
   "source": [
    "# Import the required libraries\n",
    "import sklearn.neural_network as nn\n",
    "import numpy.random as random\n",
    "import ipywidgets as widgets"
   ]
  },
  {
   "cell_type": "code",
   "execution_count": 2,
   "metadata": {},
   "outputs": [],
   "source": [
    "# Method to generate data given N number of data points\n",
    "def generate_data(N):\n",
    "    g = 8.9\n",
    "\n",
    "    Ts = random.rand(N)\n",
    "    Hs = g*(Ts**2)/2\n",
    "    \n",
    "    return Ts, Hs\n",
    "\n",
    "Ts, Hs = generate_data(10) # Update size of data here"
   ]
  },
  {
   "cell_type": "code",
   "execution_count": 3,
   "metadata": {},
   "outputs": [],
   "source": [
    "# Method to test the neural network\n",
    "def test_NN(Ts, Hs, max_iter=200):\n",
    "    NN = nn.MLPRegressor(\n",
    "        hidden_layer_sizes=(4,4), \n",
    "        activation='tanh', \n",
    "        max_iter=max_iter\n",
    "        )\n",
    "    Ts = Ts.reshape(-1, 1)\n",
    "    NN.fit(Ts, Hs)\n",
    "    # predictions = NN.predict(Ts)\n",
    "    score = NN.score(Ts, Hs)\n",
    "\n",
    "    return score\n",
    "    \n",
    "# test_NN(Ts, Hs, max_iter)"
   ]
  },
  {
   "cell_type": "code",
   "execution_count": 4,
   "metadata": {},
   "outputs": [
    {
     "output_type": "error",
     "ename": "NameError",
     "evalue": "name 'ipywidgets' is not defined",
     "traceback": [
      "\u001b[0;31m---------------------------------------------------------------------------\u001b[0m",
      "\u001b[0;31mNameError\u001b[0m                                 Traceback (most recent call last)",
      "\u001b[0;32m<ipython-input-4-8917d7b9b3c0>\u001b[0m in \u001b[0;36m<module>\u001b[0;34m\u001b[0m\n\u001b[1;32m      1\u001b[0m widgets.interact(\n\u001b[1;32m      2\u001b[0m     \u001b[0mtest_NN\u001b[0m\u001b[0;34m,\u001b[0m\u001b[0;34m\u001b[0m\u001b[0;34m\u001b[0m\u001b[0m\n\u001b[0;32m----> 3\u001b[0;31m     \u001b[0mTs\u001b[0m\u001b[0;34m=\u001b[0m\u001b[0mipywidgets\u001b[0m\u001b[0;34m.\u001b[0m\u001b[0mfixed\u001b[0m\u001b[0;34m(\u001b[0m\u001b[0mTs\u001b[0m\u001b[0;34m)\u001b[0m\u001b[0;34m,\u001b[0m\u001b[0;34m\u001b[0m\u001b[0;34m\u001b[0m\u001b[0m\n\u001b[0m\u001b[1;32m      4\u001b[0m     \u001b[0mHs\u001b[0m\u001b[0;34m=\u001b[0m\u001b[0mipywidgets\u001b[0m\u001b[0;34m.\u001b[0m\u001b[0mfixed\u001b[0m\u001b[0;34m(\u001b[0m\u001b[0mHs\u001b[0m\u001b[0;34m)\u001b[0m\u001b[0;34m,\u001b[0m\u001b[0;34m\u001b[0m\u001b[0;34m\u001b[0m\u001b[0m\n\u001b[1;32m      5\u001b[0m     max_iter = ipywidgets.IntSlider(\n",
      "\u001b[0;31mNameError\u001b[0m: name 'ipywidgets' is not defined"
     ]
    }
   ],
   "source": [
    "widgets.interact(\n",
    "    test_NN, \n",
    "    Ts=ipywidgets.fixed(Ts), \n",
    "    Hs=ipywidgets.fixed(Hs), \n",
    "    max_iter = ipywidgets.IntSlider(\n",
    "        min=50,\n",
    "        max=5000,\n",
    "        step=50,\n",
    "        description='Max # of iterations', \n",
    "        layout=ipywidgets.Layout(width='100%')\n",
    "        )\n",
    "#     max_iter=ipywidgets.SelectionSlider(\n",
    "#                description='max_iters',\n",
    "#                options = list(numpy.logspace(2, 4, 10).astype(int))\n",
    "#             )\n",
    "    )"
   ]
  },
  {
   "cell_type": "code",
   "execution_count": 21,
   "metadata": {},
   "outputs": [
    {
     "output_type": "execute_result",
     "data": {
      "text/plain": "array([0.34003926, 0.71008956, 0.83401447, 0.68881917, 0.68934465,\n       0.41482815, 0.87080406, 0.65238551, 0.91088384, 0.9792014 ])"
     },
     "metadata": {},
     "execution_count": 21
    }
   ],
   "source": [
    "Ts"
   ]
  },
  {
   "cell_type": "code",
   "execution_count": null,
   "metadata": {},
   "outputs": [],
   "source": []
  }
 ]
}
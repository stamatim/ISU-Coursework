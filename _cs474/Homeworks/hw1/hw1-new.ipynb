{
 "metadata": {
  "language_info": {
   "codemirror_mode": {
    "name": "ipython",
    "version": 3
   },
   "file_extension": ".py",
   "mimetype": "text/x-python",
   "name": "python",
   "nbconvert_exporter": "python",
   "pygments_lexer": "ipython3",
   "version": "3.8.3-final"
  },
  "orig_nbformat": 2,
  "kernelspec": {
   "name": "python_defaultSpec_1599679810150",
   "display_name": "Python 3.8.3 64-bit ('ProgramData': virtualenv)"
  }
 },
 "nbformat": 4,
 "nbformat_minor": 2,
 "cells": [
  {
   "cell_type": "code",
   "execution_count": 10,
   "metadata": {},
   "outputs": [],
   "source": [
    "# 144\n",
    "\n",
    "\n",
    "import sklearn.neural_network as nn\n",
    "import numpy as np\n",
    "import matplotlib.pyplot as plt\n",
    "\n",
    "import itertools\n"
   ]
  },
  {
   "cell_type": "code",
   "execution_count": 4,
   "metadata": {},
   "outputs": [],
   "source": [
    "def test_NN(Ts, Hs, max_iter=200):\n",
    "    NN = nn.MLPRegressor(\n",
    "        hidden_layer_sizes=(4, 4),\n",
    "        activation='tanh',\n",
    "        random_state=1,\n",
    "        max_iter=max_iter\n",
    "    )\n",
    "    Ts = Ts.reshape(-1, 1)  # learned from error\n",
    "    NN.fit(Ts, Hs)\n",
    "    # predictions = NN.predict(Ts)\n",
    "    score = NN.score(Ts, Hs)\n",
    "    return score"
   ]
  },
  {
   "cell_type": "code",
   "execution_count": 5,
   "metadata": {},
   "outputs": [],
   "source": [
    "def self_checker(*args):\n",
    "    X, y = learning_curve(*args)\n",
    "    print(type(X), X)\n",
    "    print(type(y), y)\n",
    "    import hashlib\n",
    "    print(hashlib.md5(open(args[2], \"rb\").read()).hexdigest())"
   ]
  },
  {
   "cell_type": "code",
   "execution_count": 6,
   "metadata": {},
   "outputs": [],
   "source": [
    "def learning_curve(Ts, Hs, filename):\n",
    "    max_iters = np.array([])  # array of 50 - 2000 with iteration of 50\n",
    "    t_score = np.array([])  # training score\n",
    "    for i in range(50, 2050, 50):\n",
    "        max_iters = np.append(max_iters, i)\n",
    "        t_score = np.append(t_score, test_NN(x, y, i))\n",
    "    # print(max_iters)\n",
    "    # print(t_score)\n",
    "\n",
    "    figure = plt.figure(figsize=(10, 10))\n",
    "    plt.title(\"Training score as a function of # iterations\")\n",
    "    plt.xlabel(\"Iterations\")\n",
    "    plt.ylabel(\"Training Score\")\n",
    "    plt.plot(max_iters, t_score)\n",
    "    plt.grid()\n",
    "    plt.show()\n",
    "    figure.savefig(filename + \".png\")\n",
    "\n",
    "    return max_iters, scores"
   ]
  },
  {
   "cell_type": "code",
   "execution_count": 8,
   "metadata": {},
   "outputs": [
    {
     "output_type": "error",
     "ename": "NameError",
     "evalue": "name 'Ts' is not defined",
     "traceback": [
      "\u001b[1;31m---------------------------------------------------------------------------\u001b[0m",
      "\u001b[1;31mNameError\u001b[0m                                 Traceback (most recent call last)",
      "\u001b[1;32m<ipython-input-8-2ad856ee3d7b>\u001b[0m in \u001b[0;36m<module>\u001b[1;34m\u001b[0m\n\u001b[1;32m----> 1\u001b[1;33m \u001b[0mlearning_curve\u001b[0m\u001b[1;33m(\u001b[0m\u001b[0mTs\u001b[0m\u001b[1;33m,\u001b[0m \u001b[0mHs\u001b[0m\u001b[1;33m,\u001b[0m \u001b[1;34m\"testttt.png\"\u001b[0m\u001b[1;33m)\u001b[0m\u001b[1;33m\u001b[0m\u001b[1;33m\u001b[0m\u001b[0m\n\u001b[0m",
      "\u001b[1;31mNameError\u001b[0m: name 'Ts' is not defined"
     ]
    }
   ],
   "source": [
    "learning_curve(Ts, Hs, \"testttt.png\")"
   ]
  },
  {
   "cell_type": "code",
   "execution_count": null,
   "metadata": {},
   "outputs": [],
   "source": []
  }
 ]
}
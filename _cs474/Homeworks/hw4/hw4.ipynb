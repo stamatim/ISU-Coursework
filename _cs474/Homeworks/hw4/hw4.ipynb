{
 "cells": [
  {
   "cell_type": "code",
   "execution_count": 4,
   "metadata": {},
   "outputs": [],
   "source": [
    "import numpy\n",
    "import sklearn, sklearn.datasets, sklearn.utils, sklearn.model_selection, sklearn.svm\n",
    "from sklearn.metrics import confusion_matrix, accuracy_score\n",
    "from sklearn.model_selection import cross_val_score\n",
    "\n",
    "\n",
    "def study_C_fix_split(C_range): \n",
    "    \"\"\"\n",
    "    Examples \n",
    "    -----------\n",
    "    >>> study_C_fix_split([1,10,100,1000])\n",
    "    10\n",
    "    >>> study_C_fix_split([10**p for p in range(-5,5)])\n",
    "    10\n",
    "    \"\"\"\n",
    "    best_C = 0 # placeholder\n",
    "\n",
    "    # load the data\n",
    "    data = sklearn.datasets.load_breast_cancer()\n",
    "    X, y = data[\"data\"], data[\"target\"]\n",
    "\n",
    "    # prepare the training and testing data\n",
    "    X_train, X_test, y_train, y_test = sklearn.model_selection.train_test_split(X, y, test_size=0.2, random_state=1)\n",
    "\n",
    "    # Your code here\n",
    "    score_count = 0\n",
    "    for margin in C_range:\n",
    "        from sklearn.svm import SVC\n",
    "        classifier = SVC(kernel = 'linear', random_state = 1, C = margin)\n",
    "        classifier.fit(X_train, y_train)\n",
    "    \n",
    "        y_pred = classifier.predict(X_test)\n",
    "        \n",
    "        #cm = confusion_matrix(y_test, y_pred)\n",
    "        #print(cm)\n",
    "        score = accuracy_score(y_test, y_pred)\n",
    "        if  score > score_count:\n",
    "            score_count = score\n",
    "            best_C = margin\n",
    "\n",
    "    return best_C\n",
    "\n",
    "def study_C_gridCV(C_range):\n",
    "    \"\"\"\n",
    "    C_range: 1-D list of floats or integers \n",
    "    Examples\n",
    "    --------------\n",
    "    >>> study_C_gridCV([1,2,3,4,5])\n",
    "    2\n",
    "    >>> study_C_gridCV(numpy.array([0.1, 1, 10]))\n",
    "    10.0\n",
    "    \"\"\"\n",
    "    best_C = 0  #placeholder\n",
    "\n",
    "    # load the data\n",
    "    data = sklearn.datasets.load_breast_cancer()\n",
    "    X, y = data[\"data\"], data[\"target\"]\n",
    "\n",
    "    # shuffle the data\n",
    "    X, y = sklearn.utils.shuffle(X, y, random_state=1)\n",
    "        \n",
    "    paras = {'C':C_range}\n",
    "    \n",
    "    # your code here\n",
    "    accuracy = 0\n",
    "\n",
    "    for margin in paras['C']:\n",
    "        model = sklearn.svm.SVC(\n",
    "                kernel='linear',\n",
    "                random_state=1, C = margin)\n",
    "\n",
    "   \n",
    "        accuracies = cross_val_score(estimator = model, X = X, y = y, cv = 5)\n",
    "        mean_accuracy = accuracies.mean()\n",
    "        # print(\"Accuracy: {:.2f} %\".format(mean_accuracy*100))\n",
    "        # print(\"Standard Deviation: {:.2f} %\".format(accuracies.std()*100))\n",
    "        \n",
    "        if mean_accuracy > accuracy:\n",
    "            accuracy = mean_accuracy\n",
    "            best_C = margin\n",
    "\n",
    "    return best_C\n",
    "   \n",
    "\n",
    "def study_C_and_sigma_gridCV(C_range, sigma_range):\n",
    "    \"\"\"\n",
    "    Examples \n",
    "    ------------\n",
    "    >>> study_C_and_sigma_gridCV([0.1, 0.5, 1, 3, 9, 100], numpy.array([0.1, 1, 10]))\n",
    "    (0.1, 0.1)\n",
    "    >>> study_C_and_sigma_gridCV([10**p for p in range(-5, 5, 1)], [10**p for p in range(-5, 5, 1)])\n",
    "    (1000, 1e-05)\n",
    "    \"\"\"\n",
    "    best_C, best_sigma = 0, 0 # placeholders\n",
    "\n",
    "    # load the data\n",
    "    data = sklearn.datasets.load_breast_cancer()\n",
    "    X, y = data[\"data\"], data[\"target\"]\n",
    "\n",
    "    # shuffle the data\n",
    "    X, y = sklearn.utils.shuffle(X, y, random_state=1)\n",
    "\n",
    "    # your code here\n",
    "    parameters = {'C':C_range, 'gamma':sigma_range}\n",
    "    svc = sklearn.svm.SVC(kernel='rbf', random_state=1)\n",
    "    classifier = sklearn.model_selection.GridSearchCV(svc, parameters)\n",
    "    classifier.fit(X,y)\n",
    "\n",
    "    best_C = classifier.best_params_['C']\n",
    "    best_sigma = classifier.best_params_['gamma']\n",
    "\n",
    "\n",
    "    return best_C, best_sigma"
   ]
  },
  {
   "cell_type": "code",
   "execution_count": 5,
   "metadata": {},
   "outputs": [
    {
     "output_type": "execute_result",
     "data": {
      "text/plain": [
       "10"
      ]
     },
     "metadata": {},
     "execution_count": 5
    }
   ],
   "source": [
    "# test above\n",
    "study_C_fix_split([1,10,100,1000])"
   ]
  },
  {
   "cell_type": "code",
   "execution_count": 6,
   "metadata": {},
   "outputs": [
    {
     "output_type": "execute_result",
     "data": {
      "text/plain": [
       "10"
      ]
     },
     "metadata": {},
     "execution_count": 6
    }
   ],
   "source": [
    "study_C_fix_split([10**p for p in range(-5,5)])"
   ]
  },
  {
   "cell_type": "code",
   "execution_count": 7,
   "metadata": {},
   "outputs": [
    {
     "output_type": "execute_result",
     "data": {
      "text/plain": [
       "2"
      ]
     },
     "metadata": {},
     "execution_count": 7
    }
   ],
   "source": [
    "study_C_gridCV([1,2,3,4,5])"
   ]
  },
  {
   "cell_type": "code",
   "execution_count": 8,
   "metadata": {},
   "outputs": [
    {
     "output_type": "execute_result",
     "data": {
      "text/plain": [
       "10.0"
      ]
     },
     "metadata": {},
     "execution_count": 8
    }
   ],
   "source": [
    "study_C_gridCV(numpy.array([0.1, 1, 10]))"
   ]
  },
  {
   "cell_type": "code",
   "execution_count": 9,
   "metadata": {},
   "outputs": [
    {
     "output_type": "execute_result",
     "data": {
      "text/plain": [
       "(0.1, 0.1)"
      ]
     },
     "metadata": {},
     "execution_count": 9
    }
   ],
   "source": [
    "study_C_and_sigma_gridCV([0.1, 0.5, 1, 3, 9, 100], numpy.array([0.1, 1, 10]))"
   ]
  },
  {
   "cell_type": "code",
   "execution_count": 11,
   "metadata": {},
   "outputs": [
    {
     "output_type": "execute_result",
     "data": {
      "text/plain": [
       "(1000, 1e-05)"
      ]
     },
     "metadata": {},
     "execution_count": 11
    }
   ],
   "source": [
    "study_C_and_sigma_gridCV([10**p for p in range(-5, 5, 1)], [10**p for p in range(-5, 5, 1)])"
   ]
  }
 ],
 "metadata": {
  "kernelspec": {
   "display_name": "Python 3",
   "language": "python",
   "name": "python3"
  },
  "language_info": {
   "codemirror_mode": {
    "name": "ipython",
    "version": 3
   },
   "file_extension": ".py",
   "mimetype": "text/x-python",
   "name": "python",
   "nbconvert_exporter": "python",
   "pygments_lexer": "ipython3",
   "version": "3.8.3-final"
  }
 },
 "nbformat": 4,
 "nbformat_minor": 4
}